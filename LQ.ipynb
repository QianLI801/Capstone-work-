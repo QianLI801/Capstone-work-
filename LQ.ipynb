Segmenting and Clustering Neighborhoods in the city of Toronto, Canapr
da

